{
 "cells": [
  {
   "cell_type": "code",
   "execution_count": 2,
   "metadata": {},
   "outputs": [],
   "source": [
    "# set working dir\n",
    "import os\n",
    "os.chdir('/home/jupyter/host_data/')\n",
    "\n",
    "# MongoDB\n",
    "import pymongo\n",
    "import sources.mongo_connection.mongo_queries as db_queries\n",
    "from sources.mongo_connection.mongo_connector import MongoDBConnection\n",
    "\n",
    "# Hive\n",
    "from sources.SensorNetworkDesignABC import SensorNetworkDesignABC\n",
    "\n",
    "# Problem\n",
    "from sources.problem_formulation.sensor_network_design_examples import example_1\n",
    "\n",
    "# Settings\n",
    "from sources.settings import settings_dic\n",
    "\n",
    "MongoDBConnection.initialize_connection('db', 27017)\n",
    "\n",
    "dataset_name = \"case_1\"\n",
    "sndp = example_1()\n",
    "\n",
    "n_iters = 1"
   ]
  },
  {
   "cell_type": "markdown",
   "metadata": {},
   "source": [
    "# Default settings"
   ]
  },
  {
   "cell_type": "code",
   "execution_count": 4,
   "metadata": {},
   "outputs": [
    {
     "name": "stdout",
     "output_type": "stream",
     "text": [
      "0 iterations available on DB\n",
      "Doing iteration 0...\n",
      "done!\n"
     ]
    }
   ],
   "source": [
    "from copy import deepcopy\n",
    "from sources.parallel_executions import ParallelExperiment\n",
    "\n",
    "settings_name = \"same_1\"\n",
    "local_settings = deepcopy(settings_dic[settings_name])\n",
    "local_settings['sndp'] = sndp\n",
    "\n",
    "hive = SensorNetworkDesignABC(**local_settings)\n",
    "\n",
    "experiment = ParallelExperiment(dataset_name, settings_name, n_iters, hive)\n",
    "experiment.add_iterations_if_needed()"
   ]
  },
  {
   "cell_type": "markdown",
   "metadata": {},
   "source": [
    "# Default_1 settings"
   ]
  },
  {
   "cell_type": "code",
   "execution_count": null,
   "metadata": {},
   "outputs": [],
   "source": [
    "from copy import deepcopy\n",
    "from sources.parallel_executions import ParallelExperiment\n",
    "\n",
    "settings_name = \"default_1\"\n",
    "local_settings = deepcopy(settings_dic[settings_name])\n",
    "local_settings['sndp'] = sndp\n",
    "\n",
    "hive = SensorNetworkDesignABC(**local_settings)\n",
    "\n",
    "experiment = ParallelExperiment(dataset_name, settings_name, n_iters, hive)\n",
    "experiment.add_iterations_if_needed()"
   ]
  },
  {
   "cell_type": "code",
   "execution_count": null,
   "metadata": {},
   "outputs": [],
   "source": []
  },
  {
   "cell_type": "code",
   "execution_count": null,
   "metadata": {},
   "outputs": [],
   "source": []
  }
 ],
 "metadata": {
  "kernelspec": {
   "display_name": "Python 3",
   "language": "python",
   "name": "python3"
  },
  "language_info": {
   "codemirror_mode": {
    "name": "ipython",
    "version": 3
   },
   "file_extension": ".py",
   "mimetype": "text/x-python",
   "name": "python",
   "nbconvert_exporter": "python",
   "pygments_lexer": "ipython3",
   "version": "3.6.4"
  }
 },
 "nbformat": 4,
 "nbformat_minor": 2
}
