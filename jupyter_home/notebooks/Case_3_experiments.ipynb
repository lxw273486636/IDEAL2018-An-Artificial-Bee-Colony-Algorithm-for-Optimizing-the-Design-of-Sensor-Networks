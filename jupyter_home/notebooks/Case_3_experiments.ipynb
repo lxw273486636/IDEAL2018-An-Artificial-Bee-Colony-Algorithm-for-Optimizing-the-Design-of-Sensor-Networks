{
 "cells": [
  {
   "cell_type": "code",
   "execution_count": 1,
   "metadata": {},
   "outputs": [],
   "source": [
    "# set working dir\n",
    "import os\n",
    "os.chdir('/home/jupyter/host_data/')\n",
    "\n",
    "# MongoDB\n",
    "import pymongo\n",
    "import sources.mongo_connection.mongo_queries as db_queries\n",
    "from sources.mongo_connection.mongo_connector import MongoDBConnection\n",
    "\n",
    "# Hive\n",
    "from sources.SensorNetworkDesignABC import SensorNetworkDesignABC\n",
    "\n",
    "# Problem\n",
    "from sources.problem_formulation.sensor_network_design_examples import case_3\n",
    "\n",
    "# Settings\n",
    "from sources.settings import settings_dic\n",
    "\n",
    "MongoDBConnection.initialize_connection('db', 27017)\n",
    "\n",
    "dataset_name = \"case_3\"\n",
    "sndp = case_3()\n",
    "\n",
    "n_iters = 30"
   ]
  },
  {
   "cell_type": "markdown",
   "metadata": {},
   "source": [
    "# Same iterations as PBIL"
   ]
  },
  {
   "cell_type": "markdown",
   "metadata": {},
   "source": [
    "# same_1 settings:\n",
    "\n",
    "\"numb_bees\": 50,\n",
    "\"max_itrs\": 200,\n",
    "\"max_trials\": 3600,\n",
    "\"theta_min\": 0.5,\n",
    "\"theta_max\": 0.9"
   ]
  },
  {
   "cell_type": "code",
   "execution_count": null,
   "metadata": {
    "scrolled": false
   },
   "outputs": [],
   "source": [
    "from copy import deepcopy\n",
    "from sources.parallel_executions import ParallelExperiment\n",
    "\n",
    "settings_name = \"same_1\"\n",
    "local_settings = deepcopy(settings_dic[settings_name])\n",
    "local_settings['sndp'] = sndp\n",
    "\n",
    "for i in range(10):\n",
    "    experiment = ParallelExperiment(dataset_name, settings_name, 3+3*i, hive)\n",
    "    experiment.add_iterations_if_needed(processes=3)\n",
    "\n",
    "print(\"all iterations done!\")"
   ]
  },
  {
   "cell_type": "markdown",
   "metadata": {},
   "source": [
    "# same_2 settings:\n",
    "\n",
    "\"numb_bees\": 50,\n",
    "\"max_itrs\": 200,\n",
    "\"max_trials\": 2500,\n",
    "\"theta_min\": 0.5,\n",
    "\"theta_max\": 0.9"
   ]
  },
  {
   "cell_type": "code",
   "execution_count": 2,
   "metadata": {
    "scrolled": false
   },
   "outputs": [
    {
     "name": "stdout",
     "output_type": "stream",
     "text": [
      "0 iterations available on DB\n",
      "Doing iteration 0...\n",
      "Doing iteration 1...\n",
      "Doing iteration 2...\n",
      "done!\n",
      "done!\n",
      "done!\n",
      "3 iterations available on DB\n",
      "Doing iteration 0...\n",
      "Doing iteration 1...\n",
      "Doing iteration 2...\n",
      "done!\n",
      "done!\n",
      "done!\n",
      "6 iterations available on DB\n",
      "Doing iteration 0...\n",
      "Doing iteration 2...\n",
      "Doing iteration 1...\n",
      "done!\n",
      "done!\n",
      "done!\n",
      "9 iterations available on DB\n",
      "Doing iteration 0...\n",
      "Doing iteration 2...\n",
      "Doing iteration 1...\n",
      "done!\n",
      "done!\n",
      "done!\n",
      "12 iterations available on DB\n",
      "Doing iteration 0...\n",
      "Doing iteration 1...\n",
      "Doing iteration 2...\n",
      "done!\n",
      "done!\n",
      "done!\n",
      "15 iterations available on DB\n",
      "Doing iteration 0...\n",
      "Doing iteration 1...\n",
      "Doing iteration 2...\n",
      "done!\n",
      "done!\n",
      "done!\n",
      "18 iterations available on DB\n",
      "Doing iteration 0...\n",
      "Doing iteration 1...\n",
      "Doing iteration 2...\n",
      "done!\n",
      "done!\n",
      "done!\n",
      "21 iterations available on DB\n",
      "Doing iteration 0...\n",
      "Doing iteration 1...\n",
      "Doing iteration 2...\n",
      "done!\n",
      "done!\n",
      "done!\n",
      "24 iterations available on DB\n",
      "Doing iteration 0...\n",
      "Doing iteration 1...\n",
      "Doing iteration 2...\n",
      "done!\n",
      "done!\n",
      "done!\n",
      "27 iterations available on DB\n",
      "Doing iteration 0...\n",
      "Doing iteration 1...\n",
      "Doing iteration 2...\n",
      "done!\n",
      "done!\n",
      "done!\n",
      "all iterations done!\n"
     ]
    }
   ],
   "source": [
    "from copy import deepcopy\n",
    "from sources.parallel_executions import ParallelExperiment\n",
    "\n",
    "settings_name = \"same_2\"\n",
    "local_settings = deepcopy(settings_dic[settings_name])\n",
    "local_settings['sndp'] = sndp\n",
    "\n",
    "hive = SensorNetworkDesignABC(**local_settings)\n",
    "\n",
    "for i in range(10):\n",
    "    experiment = ParallelExperiment(dataset_name, settings_name, 3+3*i, hive)\n",
    "    experiment.add_iterations_if_needed(processes=3)\n",
    "\n",
    "print(\"all iterations done!\")"
   ]
  },
  {
   "cell_type": "markdown",
   "metadata": {},
   "source": [
    "# same_3 settings:\n",
    "\n",
    "\"numb_bees\": 50,\n",
    "\"max_itrs\": 200,\n",
    "\"max_trials\": 1500,\n",
    "\"theta_min\": 0.5,\n",
    "\"theta_max\": 0.9"
   ]
  },
  {
   "cell_type": "code",
   "execution_count": null,
   "metadata": {
    "scrolled": false
   },
   "outputs": [],
   "source": [
    "from copy import deepcopy\n",
    "from sources.parallel_executions import ParallelExperiment\n",
    "\n",
    "settings_name = \"same_3\"\n",
    "local_settings = deepcopy(settings_dic[settings_name])\n",
    "local_settings['sndp'] = sndp\n",
    "\n",
    "hive = SensorNetworkDesignABC(**local_settings)\n",
    "\n",
    "experiment = ParallelExperiment(dataset_name, settings_name, n_iters, hive)\n",
    "experiment.add_iterations_if_needed()\n",
    "\n",
    "print(\"all iterations done!\")"
   ]
  },
  {
   "cell_type": "markdown",
   "metadata": {},
   "source": [
    "# same_4 settings:\n",
    "\n",
    "\"numb_bees\": 50,\n",
    "\"max_itrs\": 200,\n",
    "\"max_trials\": 1000,\n",
    "\"theta_min\": 0.5,\n",
    "\"theta_max\": 0.9"
   ]
  },
  {
   "cell_type": "code",
   "execution_count": null,
   "metadata": {
    "scrolled": false
   },
   "outputs": [],
   "source": [
    "from copy import deepcopy\n",
    "from sources.parallel_executions import ParallelExperiment\n",
    "\n",
    "settings_name = \"same_4\"\n",
    "local_settings = deepcopy(settings_dic[settings_name])\n",
    "local_settings['sndp'] = sndp\n",
    "\n",
    "hive = SensorNetworkDesignABC(**local_settings)\n",
    "\n",
    "experiment = ParallelExperiment(dataset_name, settings_name, n_iters, hive)\n",
    "experiment.add_iterations_if_needed()\n",
    "\n",
    "print(\"all iterations done!\")"
   ]
  },
  {
   "cell_type": "markdown",
   "metadata": {},
   "source": [
    "# same_5 settings:\n",
    "\n",
    "\"numb_bees\": 50,\n",
    "\"max_itrs\": 200,\n",
    "\"max_trials\": 2000,\n",
    "\"theta_min\": 0.5,\n",
    "\"theta_max\": 0.9"
   ]
  },
  {
   "cell_type": "code",
   "execution_count": null,
   "metadata": {
    "scrolled": false
   },
   "outputs": [],
   "source": [
    "from copy import deepcopy\n",
    "from sources.parallel_executions import ParallelExperiment\n",
    "\n",
    "settings_name = \"same_5\"\n",
    "local_settings = deepcopy(settings_dic[settings_name])\n",
    "local_settings['sndp'] = sndp\n",
    "\n",
    "hive = SensorNetworkDesignABC(**local_settings)\n",
    "\n",
    "experiment = ParallelExperiment(dataset_name, settings_name, n_iters, hive)\n",
    "experiment.add_iterations_if_needed()\n",
    "\n",
    "print(\"all iterations done!\")"
   ]
  },
  {
   "cell_type": "markdown",
   "metadata": {},
   "source": [
    "# same_6 settings:\n",
    "\n",
    "\"numb_bees\": 50,\n",
    "\"max_itrs\": 200,\n",
    "\"max_trials\": 500,\n",
    "\"theta_min\": 0.5,\n",
    "\"theta_max\": 0.9"
   ]
  },
  {
   "cell_type": "code",
   "execution_count": 3,
   "metadata": {
    "scrolled": false
   },
   "outputs": [
    {
     "name": "stdout",
     "output_type": "stream",
     "text": [
      "0 iterations available on DB\n",
      "Doing iteration 0...\n",
      "Doing iteration 1...\n",
      "Doing iteration 2...\n",
      "done!\n",
      "done!\n",
      "done!\n",
      "3 iterations available on DB\n",
      "Doing iteration 0...\n",
      "Doing iteration 2...\n",
      "Doing iteration 1...\n",
      "done!\n",
      "done!\n",
      "done!\n",
      "6 iterations available on DB\n",
      "Doing iteration 0...\n",
      "Doing iteration 1...\n",
      "Doing iteration 2...\n",
      "done!\n",
      "done!\n",
      "done!\n",
      "9 iterations available on DB\n",
      "Doing iteration 0...\n",
      "Doing iteration 1...\n",
      "Doing iteration 2...\n",
      "done!\n",
      "done!\n",
      "done!\n",
      "12 iterations available on DB\n",
      "Doing iteration 0...\n",
      "Doing iteration 1...\n",
      "Doing iteration 2...\n",
      "done!\n",
      "done!\n",
      "done!\n",
      "15 iterations available on DB\n",
      "Doing iteration 0...\n",
      "Doing iteration 1...\n",
      "Doing iteration 2...\n",
      "done!\n",
      "done!\n",
      "done!\n",
      "18 iterations available on DB\n",
      "Doing iteration 0...\n",
      "Doing iteration 1...\n",
      "Doing iteration 2...\n",
      "done!\n",
      "done!\n",
      "done!\n",
      "21 iterations available on DB\n",
      "Doing iteration 0...\n",
      "Doing iteration 1...\n",
      "Doing iteration 2...\n",
      "done!\n",
      "done!\n",
      "done!\n",
      "24 iterations available on DB\n",
      "Doing iteration 0...\n",
      "Doing iteration 1...\n",
      "Doing iteration 2...\n",
      "done!\n",
      "done!\n",
      "done!\n",
      "27 iterations available on DB\n",
      "Doing iteration 0...\n",
      "Doing iteration 1...\n",
      "Doing iteration 2...\n",
      "done!\n",
      "done!\n",
      "done!\n",
      "all iterations done!\n"
     ]
    }
   ],
   "source": [
    "from copy import deepcopy\n",
    "from sources.parallel_executions import ParallelExperiment\n",
    "\n",
    "settings_name = \"same_6\"\n",
    "local_settings = deepcopy(settings_dic[settings_name])\n",
    "local_settings['sndp'] = sndp\n",
    "\n",
    "hive = SensorNetworkDesignABC(**local_settings)\n",
    "\n",
    "for i in range(10):\n",
    "    experiment = ParallelExperiment(dataset_name, settings_name, 3+3*i, hive)\n",
    "    experiment.add_iterations_if_needed(processes=3)\n",
    "\n",
    "print(\"all iterations done!\")"
   ]
  },
  {
   "cell_type": "markdown",
   "metadata": {},
   "source": [
    "# More iterations than pPBIL"
   ]
  },
  {
   "cell_type": "markdown",
   "metadata": {},
   "source": [
    "# more_1 settings:\n",
    "\"numb_bees\": 50,\n",
    "\"max_itrs\": 500,\n",
    "\"max_trials\": 2000,\n",
    "\"theta_min\": 0.5,\n",
    "\"theta_max\": 0.9"
   ]
  },
  {
   "cell_type": "code",
   "execution_count": null,
   "metadata": {},
   "outputs": [],
   "source": [
    "from copy import deepcopy\n",
    "from sources.parallel_executions import ParallelExperiment\n",
    "\n",
    "settings_name = \"more_1\"\n",
    "local_settings = deepcopy(settings_dic[settings_name])\n",
    "local_settings['sndp'] = sndp\n",
    "\n",
    "hive = SensorNetworkDesignABC(**local_settings)\n",
    "\n",
    "experiment = ParallelExperiment(dataset_name, settings_name, n_iters, hive)\n",
    "experiment.add_iterations_if_needed()\n",
    "\n",
    "print(\"all iterations done!\")"
   ]
  },
  {
   "cell_type": "markdown",
   "metadata": {},
   "source": [
    "# more_2 settings:\n",
    "\"numb_bees\": 50,\n",
    "\"max_itrs\": 500,\n",
    "\"max_trials\": 1000,\n",
    "\"theta_min\": 0.5,\n",
    "\"theta_max\": 0.9"
   ]
  },
  {
   "cell_type": "code",
   "execution_count": 4,
   "metadata": {},
   "outputs": [
    {
     "name": "stdout",
     "output_type": "stream",
     "text": [
      "0 iterations available on DB\n",
      "Doing iteration 0...\n",
      "Doing iteration 1...\n",
      "Doing iteration 2...\n",
      "done!\n",
      "done!\n",
      "done!\n",
      "3 iterations available on DB\n",
      "Doing iteration 0...\n",
      "Doing iteration 1...\n",
      "Doing iteration 2...\n",
      "done!\n",
      "done!\n",
      "done!\n",
      "6 iterations available on DB\n",
      "Doing iteration 0...\n",
      "Doing iteration 1...\n",
      "Doing iteration 2...\n",
      "done!\n",
      "done!\n",
      "done!\n",
      "9 iterations available on DB\n",
      "Doing iteration 0...\n",
      "Doing iteration 1...\n",
      "Doing iteration 2...\n",
      "done!\n",
      "done!\n",
      "done!\n",
      "12 iterations available on DB\n",
      "Doing iteration 0...\n",
      "Doing iteration 1...\n",
      "Doing iteration 2...\n",
      "done!\n",
      "done!\n",
      "done!\n",
      "15 iterations available on DB\n",
      "Doing iteration 0...\n",
      "Doing iteration 1...\n",
      "Doing iteration 2...\n",
      "done!\n",
      "done!\n",
      "done!\n",
      "18 iterations available on DB\n",
      "Doing iteration 0...\n",
      "Doing iteration 1...\n",
      "Doing iteration 2...\n",
      "done!\n",
      "done!\n",
      "done!\n",
      "21 iterations available on DB\n",
      "Doing iteration 0...\n",
      "Doing iteration 1...\n",
      "Doing iteration 2...\n",
      "done!\n",
      "done!\n",
      "done!\n",
      "24 iterations available on DB\n",
      "Doing iteration 0...\n",
      "Doing iteration 1...\n",
      "Doing iteration 2...\n",
      "done!\n",
      "done!\n",
      "done!\n",
      "27 iterations available on DB\n",
      "Doing iteration 0...\n",
      "Doing iteration 1...\n",
      "Doing iteration 2...\n",
      "done!\n",
      "done!\n",
      "done!\n",
      "all iterations done!\n"
     ]
    }
   ],
   "source": [
    "from copy import deepcopy\n",
    "from sources.parallel_executions import ParallelExperiment\n",
    "\n",
    "settings_name = \"more_2\"\n",
    "local_settings = deepcopy(settings_dic[settings_name])\n",
    "local_settings['sndp'] = sndp\n",
    "\n",
    "for i in range(10):\n",
    "    hive = SensorNetworkDesignABC(**local_settings)\n",
    "    \n",
    "    experiment = ParallelExperiment(dataset_name, settings_name, 3+3*i, hive)\n",
    "    experiment.add_iterations_if_needed(processes=3)\n",
    "\n",
    "print(\"all iterations done!\")"
   ]
  },
  {
   "cell_type": "markdown",
   "metadata": {},
   "source": [
    "# more_3 settings:\n",
    "\"numb_bees\": 50,\n",
    "\"max_itrs\": 1000,\n",
    "\"max_trials\": 1500,\n",
    "\"theta_min\": 0.5,\n",
    "\"theta_max\": 0.9"
   ]
  },
  {
   "cell_type": "code",
   "execution_count": null,
   "metadata": {},
   "outputs": [],
   "source": [
    "from copy import deepcopy\n",
    "from sources.parallel_executions import ParallelExperiment\n",
    "\n",
    "settings_name = \"more_3\"\n",
    "local_settings = deepcopy(settings_dic[settings_name])\n",
    "local_settings['sndp'] = sndp\n",
    "\n",
    "hive = SensorNetworkDesignABC(**local_settings)\n",
    "\n",
    "experiment = ParallelExperiment(dataset_name, settings_name, n_iters, hive)\n",
    "experiment.add_iterations_if_needed()\n",
    "\n",
    "print(\"all iterations done!\")"
   ]
  },
  {
   "cell_type": "markdown",
   "metadata": {},
   "source": [
    "# more_4 settings:\n",
    "\"numb_bees\": 50,\n",
    "\"max_itrs\": 1000,\n",
    "\"max_trials\": 2500,\n",
    "\"theta_min\": 0.5,\n",
    "\"theta_max\": 0.9"
   ]
  },
  {
   "cell_type": "code",
   "execution_count": null,
   "metadata": {},
   "outputs": [],
   "source": [
    "from copy import deepcopy\n",
    "from sources.parallel_executions import ParallelExperiment\n",
    "\n",
    "settings_name = \"more_4\"\n",
    "local_settings = deepcopy(settings_dic[settings_name])\n",
    "local_settings['sndp'] = sndp\n",
    "\n",
    "hive = SensorNetworkDesignABC(**local_settings)\n",
    "\n",
    "experiment = ParallelExperiment(dataset_name, settings_name, n_iters, hive)\n",
    "experiment.add_iterations_if_needed()\n",
    "\n",
    "print(\"all iterations done!\")"
   ]
  },
  {
   "cell_type": "markdown",
   "metadata": {},
   "source": [
    "# more_5 settings:\n",
    "\"numb_bees\": 50,\n",
    "\"max_itrs\": 2000,\n",
    "\"max_trials\": 2500,\n",
    "\"theta_min\": 0.5,\n",
    "\"theta_max\": 0.9"
   ]
  },
  {
   "cell_type": "code",
   "execution_count": null,
   "metadata": {},
   "outputs": [],
   "source": [
    "from copy import deepcopy\n",
    "from sources.parallel_executions import ParallelExperiment\n",
    "\n",
    "settings_name = \"more_5\"\n",
    "local_settings = deepcopy(settings_dic[settings_name])\n",
    "local_settings['sndp'] = sndp\n",
    "\n",
    "hive = SensorNetworkDesignABC(**local_settings)\n",
    "\n",
    "experiment = ParallelExperiment(dataset_name, settings_name, n_iters, hive)\n",
    "experiment.add_iterations_if_needed()\n",
    "\n",
    "print(\"all iterations done!\")"
   ]
  },
  {
   "cell_type": "markdown",
   "metadata": {},
   "source": [
    "# more_6 settings:\n",
    "\"numb_bees\": 50,\n",
    "\"max_itrs\": 2000,\n",
    "\"max_trials\": 1500,\n",
    "\"theta_min\": 0.5,\n",
    "\"theta_max\": 0.9"
   ]
  },
  {
   "cell_type": "code",
   "execution_count": null,
   "metadata": {},
   "outputs": [],
   "source": [
    "from copy import deepcopy\n",
    "from sources.parallel_executions import ParallelExperiment\n",
    "\n",
    "settings_name = \"more_6\"\n",
    "local_settings = deepcopy(settings_dic[settings_name])\n",
    "local_settings['sndp'] = sndp\n",
    "\n",
    "hive = SensorNetworkDesignABC(**local_settings)\n",
    "\n",
    "experiment = ParallelExperiment(dataset_name, settings_name, n_iters, hive)\n",
    "experiment.add_iterations_if_needed()\n",
    "\n",
    "print(\"all iterations done!\")"
   ]
  },
  {
   "cell_type": "markdown",
   "metadata": {},
   "source": [
    "# more_7 settings:\n",
    "\"numb_bees\": 50,\n",
    "\"max_itrs\": 5000,\n",
    "\"max_trials\": 2500,\n",
    "\"theta_min\": 0.5,\n",
    "\"theta_max\": 0.9"
   ]
  },
  {
   "cell_type": "code",
   "execution_count": null,
   "metadata": {},
   "outputs": [],
   "source": [
    "from copy import deepcopy\n",
    "from sources.parallel_executions import ParallelExperiment\n",
    "\n",
    "settings_name = \"more_7\"\n",
    "local_settings = deepcopy(settings_dic[settings_name])\n",
    "local_settings['sndp'] = sndp\n",
    "\n",
    "hive = SensorNetworkDesignABC(**local_settings)\n",
    "\n",
    "for i in range(6):\n",
    "    experiment = ParallelExperiment(dataset_name, settings_name, 5 + 5*i, hive)\n",
    "    experiment.add_iterations_if_needed(processes=5)\n",
    "\n",
    "print(\"all iterations done!\")"
   ]
  },
  {
   "cell_type": "code",
   "execution_count": null,
   "metadata": {},
   "outputs": [],
   "source": []
  }
 ],
 "metadata": {
  "kernelspec": {
   "display_name": "Python 3",
   "language": "python",
   "name": "python3"
  },
  "language_info": {
   "codemirror_mode": {
    "name": "ipython",
    "version": 3
   },
   "file_extension": ".py",
   "mimetype": "text/x-python",
   "name": "python",
   "nbconvert_exporter": "python",
   "pygments_lexer": "ipython3",
   "version": "3.6.4"
  }
 },
 "nbformat": 4,
 "nbformat_minor": 2
}
